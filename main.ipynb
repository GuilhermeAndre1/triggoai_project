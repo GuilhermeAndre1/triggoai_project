{
 "cells": [
  {
   "cell_type": "markdown",
   "id": "126ab36b",
   "metadata": {},
   "source": [
    "# TESTE TRIGGOAI  "
   ]
  },
  {
   "cell_type": "markdown",
   "id": "9c7c7a2a",
   "metadata": {},
   "source": [
    "*git lfs ajustado, database.db consegue ser pushado"
   ]
  },
  {
   "cell_type": "markdown",
   "id": "252995fc",
   "metadata": {},
   "source": [
    "# 0: Importando Bibliotecas\n"
   ]
  },
  {
   "cell_type": "code",
   "execution_count": null,
   "id": "9ef728e2",
   "metadata": {},
   "outputs": [],
   "source": [
    "import pandas as pd\n",
    "import sqlalchemy \n"
   ]
  },
  {
   "cell_type": "markdown",
   "id": "26e1a24a",
   "metadata": {},
   "source": [
    "# 1: Tratamento do dataset\n",
    "Tratando as informações dos clientes"
   ]
  },
  {
   "cell_type": "code",
   "execution_count": 84,
   "id": "ea86b99d",
   "metadata": {},
   "outputs": [],
   "source": [
    "df_customers = pd.read_csv(r'dataset\\olist_customers_dataset.csv', sep=',', encoding='utf-8')\n",
    "df_customers['customer_id'].drop_duplicates(inplace=True) #Eu posso retirar os duplicados aqui?\n",
    "df_customers.dropna(inplace=True)\n",
    "df_customers['customer_city'] = df_customers['customer_city'].str.lower().str.strip().str.replace(' ', '_')"
   ]
  },
  {
   "cell_type": "markdown",
   "id": "9f23b065",
   "metadata": {},
   "source": [
    "Tratando os dados de Geolocalização"
   ]
  },
  {
   "cell_type": "code",
   "execution_count": 85,
   "id": "962d00d5",
   "metadata": {},
   "outputs": [],
   "source": [
    "df_geolocation = pd.read_csv(r'dataset\\olist_geolocation_dataset.csv', sep=',', encoding='utf-8')\n",
    "df_geolocation.drop_duplicates(inplace=True)\n",
    "df_geolocation.dropna(inplace=True)\n",
    "df_geolocation['geolocation_city'] = df_geolocation['geolocation_city'].str.lower().str.strip().str.replace(' ', '_')"
   ]
  },
  {
   "cell_type": "markdown",
   "id": "0a3b82eb",
   "metadata": {},
   "source": [
    "Tratamento dados dos produtos comprados"
   ]
  },
  {
   "cell_type": "code",
   "execution_count": 86,
   "id": "668de94b",
   "metadata": {},
   "outputs": [],
   "source": [
    "df_order_item = pd.read_csv(r'dataset\\olist_order_items_dataset.csv', sep=',', encoding='utf-8')\n",
    "df_order_item.drop_duplicates(inplace=True)\n",
    "df_order_item.dropna(inplace=True)\n",
    "df_order_item['shipping_limit_date'] = pd.to_datetime(df_order_item['shipping_limit_date'], format='%Y-%m-%d %H:%M:%S')\n",
    "\n",
    "order_item_float = [\n",
    "    'price',\n",
    "    'freight_value'\n",
    "]\n",
    "\n",
    "df_order_item[order_item_float] = df_order_item[order_item_float].astype(float)"
   ]
  },
  {
   "cell_type": "markdown",
   "id": "474dee7f",
   "metadata": {},
   "source": [
    "Tratamento dos dados de pagamento\n"
   ]
  },
  {
   "cell_type": "code",
   "execution_count": 87,
   "id": "3804393e",
   "metadata": {},
   "outputs": [],
   "source": [
    "df_order_payment = pd.read_csv(r'dataset\\olist_order_payments_dataset.csv', sep=',', encoding='utf-8')\n",
    "df_order_payment.drop_duplicates(inplace=True)\n",
    "df_order_payment.dropna(inplace=True)\n",
    "df_order_payment = df_order_payment[df_order_payment['payment_sequential'] < 15]\n",
    "df_order_payment['payment_type'] = df_order_payment['payment_type'].str.lower().str.strip().str.replace(' ', '_')\n",
    "df_order_payment['payment_value'] = df_order_payment['payment_value'].astype(float)\n",
    "\n",
    "order_payment_int = [\n",
    "    'payment_sequential',\n",
    "    'payment_installments'\n",
    "]\n",
    "\n",
    "df_order_payment[order_payment_int] = df_order_payment[order_payment_int].astype(int)   "
   ]
  },
  {
   "cell_type": "markdown",
   "id": "4c4c0e9e",
   "metadata": {},
   "source": [
    "Tratando os dados de reviews dos pedidos"
   ]
  },
  {
   "cell_type": "code",
   "execution_count": 88,
   "id": "9b66a897",
   "metadata": {},
   "outputs": [],
   "source": [
    "df_order_reviews = pd.read_csv(r'dataset\\olist_order_reviews_dataset.csv', sep=',', encoding='utf-8')\n",
    "df_order_reviews.drop_duplicates(inplace=True)\n",
    "df_order_reviews.dropna(subset=['review_id','order_id','review_score','review_creation_date','review_answer_timestamp'],inplace=True)\n",
    "df_order_reviews['review_score'] = df_order_reviews['review_score'].astype(int)\n",
    "df_order_reviews['review_comment_title'] = df_order_reviews['review_comment_title'].fillna('')\n",
    "df_order_reviews['review_comment_message'] = df_order_reviews['review_comment_message'].fillna('')\n",
    "\n",
    "reviews_datetime = [\n",
    "    'review_creation_date',\n",
    "    'review_answer_timestamp'\n",
    "]\n",
    "df_order_reviews[reviews_datetime] = df_order_reviews[reviews_datetime].apply(pd.to_datetime, format='%Y-%m-%d %H:%M:%S')"
   ]
  },
  {
   "cell_type": "markdown",
   "id": "2dbc9863",
   "metadata": {},
   "source": [
    "Tratando os dados de pedidos\n"
   ]
  },
  {
   "cell_type": "code",
   "execution_count": 89,
   "id": "cb0285e8",
   "metadata": {},
   "outputs": [],
   "source": [
    "df_orders = pd.read_csv(r'dataset\\olist_orders_dataset.csv', sep=',', encoding='utf-8')\n",
    "df_orders.drop_duplicates(inplace=True)\n",
    "df_orders.dropna(inplace=True)\n",
    "df_orders['order_id'] = df_orders['order_id'].str.strip()\n",
    "df_orders['customer_id'] = df_orders['customer_id'].str.strip()\n",
    "df_orders['order_status'] = df_orders['order_status'].str.strip().str.lower().astype('category')\n",
    "\n",
    "orders_datetime = [\n",
    "    'order_purchase_timestamp',\n",
    "    'order_approved_at',\n",
    "    'order_delivered_carrier_date',\n",
    "    'order_delivered_customer_date',\n",
    "    'order_estimated_delivery_date'\n",
    "]\n",
    "df_orders[orders_datetime] = df_orders[orders_datetime].apply(pd.to_datetime)\n",
    "\n"
   ]
  },
  {
   "cell_type": "markdown",
   "id": "655a47a1",
   "metadata": {},
   "source": [
    "Tratando o dataset de produtos"
   ]
  },
  {
   "cell_type": "code",
   "execution_count": 90,
   "id": "0579a10a",
   "metadata": {},
   "outputs": [],
   "source": [
    "df_products = pd.read_csv(r'dataset\\olist_products_dataset.csv', sep=',', encoding='utf-8')\n",
    "df_products.drop_duplicates(inplace=True)\n",
    "df_products.dropna(inplace=True)\n",
    "df_products['product_id'] = df_products['product_id'].str.strip()\n",
    "df_products['product_category_name'] = df_products['product_category_name'].str.lower().str.strip().str.replace(' ', '_')\n",
    "\n",
    "products_int = [\n",
    "    'product_name_lenght',\n",
    "    'product_description_lenght',\n",
    "    'product_photos_qty',\n",
    "    'product_weight_g',\n",
    "    'product_length_cm',\n",
    "    'product_height_cm'\n",
    "]\n",
    "\n",
    "df_products[products_int] = df_products[products_int].astype(int)"
   ]
  },
  {
   "cell_type": "markdown",
   "id": "8acb4b9f",
   "metadata": {},
   "source": [
    "Tratando o dataset de vendedores"
   ]
  },
  {
   "cell_type": "code",
   "execution_count": 91,
   "id": "22d55c4a",
   "metadata": {},
   "outputs": [],
   "source": [
    "df_sellers = pd.read_csv(r'dataset\\olist_sellers_dataset.csv', sep=',', encoding='utf-8')\n",
    "df_sellers.drop_duplicates(inplace=True)\n",
    "df_sellers.dropna(inplace=True)\n",
    "df_sellers['seller_id'] = df_sellers['seller_id'].str.strip()\n",
    "df_sellers['seller_zip_code_prefix'] = df_sellers['seller_zip_code_prefix'].astype(str)\n",
    "df_sellers['seller_city'] = df_sellers['seller_city'].str.lower().str.strip().str.replace(' ', '_')\n",
    "df_sellers['seller_state'] = df_sellers['seller_state'].str.strip()"
   ]
  },
  {
   "cell_type": "markdown",
   "id": "b44c613a",
   "metadata": {},
   "source": [
    "df = df[df['data_entrega'] >= df['data_compra']] para usar no dataset de pedidos\n",
    "\n"
   ]
  },
  {
   "cell_type": "markdown",
   "id": "bd599337",
   "metadata": {},
   "source": [
    "# 2. Preparando o Modelo Relacional com SQLAlchemy"
   ]
  },
  {
   "cell_type": "markdown",
   "id": "a517c751",
   "metadata": {},
   "source": [
    "Criando a Engine do SQLAlchemy"
   ]
  },
  {
   "cell_type": "code",
   "execution_count": null,
   "id": "a858ca83",
   "metadata": {},
   "outputs": [],
   "source": [
    "engine = sqlalchemy.create_engine('sqlite:///datasets.db')\n",
    "print('Conectando ao banco de dados...')\n",
    "try:\n",
    "    conn = engine.connect()\n",
    "    print('Conexão estabelecida com sucesso!')\n",
    "except sqlalchemy.exc.OperationalError as e:\n",
    "    print(f'Erro ao conectar ao banco de dados: {e}')\n",
    "    exit(1)"
   ]
  },
  {
   "cell_type": "markdown",
   "id": "34630776",
   "metadata": {},
   "source": [
    "Carregando os Dataframes no banco "
   ]
  },
  {
   "cell_type": "code",
   "execution_count": null,
   "id": "cfa37430",
   "metadata": {},
   "outputs": [
    {
     "data": {
      "text/plain": [
       "3095"
      ]
     },
     "execution_count": 94,
     "metadata": {},
     "output_type": "execute_result"
    }
   ],
   "source": [
    "print('Criando tabelas no banco de dados...')\n",
    "df_customers.to_sql('customers', con=engine, if_exists='replace', index=False)\n",
    "df_geolocation.to_sql('geolocation', con=engine, if_exists='replace', index=False)\n",
    "df_order_item.to_sql('order_item', con=engine, if_exists='replace', index=False)\n",
    "df_order_payment.to_sql('order_payment', con=engine, if_exists='replace', index=False)\n",
    "df_order_reviews.to_sql('order_reviews', con=engine, if_exists='replace', index=False)\n",
    "df_orders.to_sql('orders', con=engine, if_exists='replace', index=False)\n",
    "df_products.to_sql('products', con=engine, if_exists='replace', index=False)\n",
    "df_sellers.to_sql('sellers', con=engine, if_exists='replace', index=False)\n",
    "print('Tabelas criadas com sucesso!')\n",
    "conn.close()"
   ]
  },
  {
   "cell_type": "markdown",
   "id": "86c7b40e",
   "metadata": {},
   "source": [
    "Criando Índices nas tabelas para melhor performance do código"
   ]
  },
  {
   "cell_type": "code",
   "execution_count": 104,
   "id": "c1f10ae1",
   "metadata": {},
   "outputs": [],
   "source": [
    "with engine.connect() as conn:\n",
    "    conn.execute(sqlalchemy.text('CREATE INDEX IF NOT EXISTS idx_orders_customer_id ON orders(customer_id)'))\n",
    "    conn.execute(sqlalchemy.text('CREATE INDEX IF NOT EXISTS idx_orders_order_id ON orders(order_id)'))\n",
    "    conn.execute(sqlalchemy.text('CREATE INDEX IF NOT EXISTS idx_order_item_product_id ON order_item(product_id)'))\n",
    "    conn.execute(sqlalchemy.text('CREATE INDEX IF NOT EXISTS idx_order_item_product_id ON order_item(seller_id)'))\n",
    "    conn.execute(sqlalchemy.text('CREATE INDEX IF NOT EXISTS idx_geolocation_geolocation_zip_code_prefix ON geolocation(geolocation_zip_code_prefix)'))"
   ]
  },
  {
   "cell_type": "code",
   "execution_count": 109,
   "id": "1a513bb4",
   "metadata": {},
   "outputs": [
    {
     "data": {
      "text/plain": [
       "<bound method NDFrame.head of                                 order_id                       customer_id  \\\n",
       "0       00e7ee1b050b8499577073aeb2a297a1  06b8999e2fba1a1fbc88172c00ba8bc7   \n",
       "1       29150127e6685892b6eab3eec79f59c7  18955e83d337fd6b2def6b18a428ac77   \n",
       "2       b2059ed67ce144a36e2aa97d2c9e9ad2  4e7b3e00288586ebd08712fdd0374a03   \n",
       "3       951670f92359f4fe4a63112aa7306eba  b2b6027bc5c5109e529d4dc6358b12c3   \n",
       "4       6b7d50bd145f6fc7f33cebabd7e49d0f  4f2d8ab171c80ec8364f7c12e35b23ad   \n",
       "...                                  ...                               ...   \n",
       "110175  6760e20addcf0121e9d58f2f1ff14298  17ddf5dd5d51696bb3d7c6291687be6f   \n",
       "110176  9ec0c8947d973db4f4e8dcf1fbfa8f1b  e7b71a9017aa05c9a7fd292d714858e8   \n",
       "110177  fed4434add09a6f332ea398efd656a5c  5e28dfe12db7fb50a4b2f691faecea5e   \n",
       "110178  e31ec91cea1ecf97797787471f98a8c2  56b18e2166679b8a959d72dd06da27f9   \n",
       "110179  28db69209a75e59f20ccbb5c36a20b90  274fa6071e5e17fe303b9748641082c8   \n",
       "\n",
       "       order_status                        product_id   price  \n",
       "0         delivered  a9516a079e37a9c9c36b9b78b10169e8  124.99  \n",
       "1         delivered  4aa6014eceb682077f9dc4bffebc05b0  289.00  \n",
       "2         delivered  bd07b66896d6f1494f5b86251848ced7  139.94  \n",
       "3         delivered  a5647c44af977b148e0a3a4751a09e2e  149.94  \n",
       "4         delivered  9391a573abe00141c56e38d84d7d5b3b  230.00  \n",
       "...             ...                               ...     ...  \n",
       "110175    delivered  ccb4503d9d43d245d3b295d0544f988b   74.90  \n",
       "110176    delivered  9ede6b0570a75a4b9de4f383329f99ee  114.90  \n",
       "110177    delivered  7a5d2e1e131a860ae7d18f6fffa9d689   37.00  \n",
       "110178    delivered  f819f0c84a64f02d3a5606ca95edd272  689.00  \n",
       "110179    delivered  017692475c1c954ff597feda05131d73   13.99  \n",
       "\n",
       "[110180 rows x 5 columns]>"
      ]
     },
     "execution_count": 109,
     "metadata": {},
     "output_type": "execute_result"
    }
   ],
   "source": [
    "query = \"\"\"\n",
    "SELECT o.order_id, c.customer_id, o.order_status, i.product_id, i.price\n",
    "FROM orders o\n",
    "JOIN customers c ON o.customer_id = c.customer_id\n",
    "JOIN order_item i ON o.order_id = i.order_id\n",
    "\"\"\"\n",
    "df_joined = pd.read_sql(query, con=engine)\n",
    "\n",
    "df_joined.head\n"
   ]
  }
 ],
 "metadata": {
  "kernelspec": {
   "display_name": "Python 3",
   "language": "python",
   "name": "python3"
  },
  "language_info": {
   "codemirror_mode": {
    "name": "ipython",
    "version": 3
   },
   "file_extension": ".py",
   "mimetype": "text/x-python",
   "name": "python",
   "nbconvert_exporter": "python",
   "pygments_lexer": "ipython3",
   "version": "3.12.3"
  }
 },
 "nbformat": 4,
 "nbformat_minor": 5
}
