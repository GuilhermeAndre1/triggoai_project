{
 "cells": [
  {
   "cell_type": "markdown",
   "id": "126ab36b",
   "metadata": {},
   "source": [
    "# TESTE TRIGGOAI  "
   ]
  },
  {
   "cell_type": "markdown",
   "id": "9c7c7a2a",
   "metadata": {},
   "source": [
    "*git lfs ajustado, database.db consegue ser pushado"
   ]
  },
  {
   "cell_type": "markdown",
   "id": "252995fc",
   "metadata": {},
   "source": [
    "# 0: Importando Bibliotecas\n"
   ]
  },
  {
   "cell_type": "code",
   "execution_count": 1,
   "id": "9ef728e2",
   "metadata": {},
   "outputs": [],
   "source": [
    "import pandas as pd\n",
    "import sqlalchemy\n",
    "import plotly.express as px"
   ]
  },
  {
   "cell_type": "markdown",
   "id": "26e1a24a",
   "metadata": {},
   "source": [
    "# 1: Tratamento do dataset\n",
    "Tratando as informações dos clientes"
   ]
  },
  {
   "cell_type": "code",
   "execution_count": 2,
   "id": "ea86b99d",
   "metadata": {},
   "outputs": [],
   "source": [
    "df_customers = pd.read_csv(r'dataset\\olist_customers_dataset.csv', sep=',', encoding='utf-8')\n",
    "df_customers['customer_id'].drop_duplicates(inplace=True) #Eu posso retirar os duplicados aqui?\n",
    "df_customers.dropna(inplace=True)\n",
    "df_customers['customer_city'] = df_customers['customer_city'].str.lower().str.strip().str.replace(' ', '_')"
   ]
  },
  {
   "cell_type": "markdown",
   "id": "9f23b065",
   "metadata": {},
   "source": [
    "Tratando os dados de Geolocalização"
   ]
  },
  {
   "cell_type": "code",
   "execution_count": 3,
   "id": "962d00d5",
   "metadata": {},
   "outputs": [],
   "source": [
    "df_geolocation = pd.read_csv(r'dataset\\olist_geolocation_dataset.csv', sep=',', encoding='utf-8')\n",
    "df_geolocation.drop_duplicates(inplace=True)\n",
    "df_geolocation.dropna(inplace=True)\n",
    "df_geolocation['geolocation_city'] = df_geolocation['geolocation_city'].str.lower().str.strip().str.replace(' ', '_')"
   ]
  },
  {
   "cell_type": "markdown",
   "id": "0a3b82eb",
   "metadata": {},
   "source": [
    "Tratamento dados dos produtos comprados"
   ]
  },
  {
   "cell_type": "code",
   "execution_count": 4,
   "id": "668de94b",
   "metadata": {},
   "outputs": [],
   "source": [
    "df_order_item = pd.read_csv(r'dataset\\olist_order_items_dataset.csv', sep=',', encoding='utf-8')\n",
    "df_order_item.drop_duplicates(inplace=True)\n",
    "df_order_item.dropna(inplace=True)\n",
    "df_order_item['shipping_limit_date'] = pd.to_datetime(df_order_item['shipping_limit_date'], format='%Y-%m-%d %H:%M:%S')\n",
    "\n",
    "order_item_float = [\n",
    "    'price',\n",
    "    'freight_value'\n",
    "]\n",
    "\n",
    "df_order_item[order_item_float] = df_order_item[order_item_float].astype(float)"
   ]
  },
  {
   "cell_type": "markdown",
   "id": "474dee7f",
   "metadata": {},
   "source": [
    "Tratamento dos dados de pagamento\n"
   ]
  },
  {
   "cell_type": "code",
   "execution_count": 5,
   "id": "3804393e",
   "metadata": {},
   "outputs": [],
   "source": [
    "df_order_payment = pd.read_csv(r'dataset\\olist_order_payments_dataset.csv', sep=',', encoding='utf-8')\n",
    "df_order_payment.drop_duplicates(inplace=True)\n",
    "df_order_payment.dropna(inplace=True)\n",
    "df_order_payment = df_order_payment[df_order_payment['payment_sequential'] < 15]\n",
    "df_order_payment['payment_type'] = df_order_payment['payment_type'].str.lower().str.strip().str.replace(' ', '_')\n",
    "df_order_payment['payment_value'] = df_order_payment['payment_value'].astype(float)\n",
    "\n",
    "order_payment_int = [\n",
    "    'payment_sequential',\n",
    "    'payment_installments'\n",
    "]\n",
    "\n",
    "df_order_payment[order_payment_int] = df_order_payment[order_payment_int].astype(int)   "
   ]
  },
  {
   "cell_type": "markdown",
   "id": "4c4c0e9e",
   "metadata": {},
   "source": [
    "Tratando os dados de reviews dos pedidos"
   ]
  },
  {
   "cell_type": "code",
   "execution_count": 6,
   "id": "9b66a897",
   "metadata": {},
   "outputs": [],
   "source": [
    "df_order_reviews = pd.read_csv(r'dataset\\olist_order_reviews_dataset.csv', sep=',', encoding='utf-8')\n",
    "df_order_reviews.drop_duplicates(inplace=True)\n",
    "df_order_reviews.dropna(subset=['review_id','order_id','review_score','review_creation_date','review_answer_timestamp'],inplace=True)\n",
    "df_order_reviews['review_score'] = df_order_reviews['review_score'].astype(int)\n",
    "df_order_reviews['review_comment_title'] = df_order_reviews['review_comment_title'].fillna('')\n",
    "df_order_reviews['review_comment_message'] = df_order_reviews['review_comment_message'].fillna('')\n",
    "\n",
    "reviews_datetime = [\n",
    "    'review_creation_date',\n",
    "    'review_answer_timestamp'\n",
    "]\n",
    "df_order_reviews[reviews_datetime] = df_order_reviews[reviews_datetime].apply(pd.to_datetime, format='%Y-%m-%d %H:%M:%S')"
   ]
  },
  {
   "cell_type": "markdown",
   "id": "2dbc9863",
   "metadata": {},
   "source": [
    "Tratando os dados de pedidos\n"
   ]
  },
  {
   "cell_type": "code",
   "execution_count": 7,
   "id": "cb0285e8",
   "metadata": {},
   "outputs": [],
   "source": [
    "df_orders = pd.read_csv(r'dataset\\olist_orders_dataset.csv', sep=',', encoding='utf-8')\n",
    "df_orders.drop_duplicates(inplace=True)\n",
    "df_orders.dropna(inplace=True)\n",
    "df_orders['order_id'] = df_orders['order_id'].str.strip()\n",
    "df_orders['customer_id'] = df_orders['customer_id'].str.strip()\n",
    "df_orders['order_status'] = df_orders['order_status'].str.strip().str.lower().astype('category')\n",
    "\n",
    "orders_datetime = [\n",
    "    'order_purchase_timestamp',\n",
    "    'order_approved_at',\n",
    "    'order_delivered_carrier_date',\n",
    "    'order_delivered_customer_date',\n",
    "    'order_estimated_delivery_date'\n",
    "]\n",
    "df_orders[orders_datetime] = df_orders[orders_datetime].apply(pd.to_datetime)\n",
    "\n"
   ]
  },
  {
   "cell_type": "markdown",
   "id": "655a47a1",
   "metadata": {},
   "source": [
    "Tratando o dataset de produtos"
   ]
  },
  {
   "cell_type": "code",
   "execution_count": 8,
   "id": "0579a10a",
   "metadata": {},
   "outputs": [],
   "source": [
    "df_products = pd.read_csv(r'dataset\\olist_products_dataset.csv', sep=',', encoding='utf-8')\n",
    "df_products.drop_duplicates(inplace=True)\n",
    "df_products.dropna(inplace=True)\n",
    "df_products['product_id'] = df_products['product_id'].str.strip()\n",
    "df_products['product_category_name'] = df_products['product_category_name'].str.lower().str.strip().str.replace(' ', '_')\n",
    "\n",
    "products_int = [\n",
    "    'product_name_lenght',\n",
    "    'product_description_lenght',\n",
    "    'product_photos_qty',\n",
    "    'product_weight_g',\n",
    "    'product_length_cm',\n",
    "    'product_height_cm'\n",
    "]\n",
    "\n",
    "df_products[products_int] = df_products[products_int].astype(int)"
   ]
  },
  {
   "cell_type": "markdown",
   "id": "8acb4b9f",
   "metadata": {},
   "source": [
    "Tratando o dataset de vendedores"
   ]
  },
  {
   "cell_type": "code",
   "execution_count": 9,
   "id": "22d55c4a",
   "metadata": {},
   "outputs": [],
   "source": [
    "df_sellers = pd.read_csv(r'dataset\\olist_sellers_dataset.csv', sep=',', encoding='utf-8')\n",
    "df_sellers.drop_duplicates(inplace=True)\n",
    "df_sellers.dropna(inplace=True)\n",
    "df_sellers['seller_id'] = df_sellers['seller_id'].str.strip()\n",
    "df_sellers['seller_zip_code_prefix'] = df_sellers['seller_zip_code_prefix'].astype(str)\n",
    "df_sellers['seller_city'] = df_sellers['seller_city'].str.lower().str.strip().str.replace(' ', '_')\n",
    "df_sellers['seller_state'] = df_sellers['seller_state'].str.strip()"
   ]
  },
  {
   "cell_type": "markdown",
   "id": "b44c613a",
   "metadata": {},
   "source": [
    "df = df[df['data_entrega'] >= df['data_compra']] para usar no dataset de pedidos\n",
    "\n"
   ]
  },
  {
   "cell_type": "markdown",
   "id": "bd599337",
   "metadata": {},
   "source": [
    "# 2. Preparando o Modelo Relacional com SQLAlchemy"
   ]
  },
  {
   "cell_type": "markdown",
   "id": "a517c751",
   "metadata": {},
   "source": [
    "Criando a Engine do SQLAlchemy"
   ]
  },
  {
   "cell_type": "code",
   "execution_count": 10,
   "id": "a858ca83",
   "metadata": {},
   "outputs": [
    {
     "name": "stdout",
     "output_type": "stream",
     "text": [
      "Conectando ao banco de dados...\n",
      "Conexão estabelecida com sucesso!\n"
     ]
    }
   ],
   "source": [
    "engine = sqlalchemy.create_engine('sqlite:///datasets.db')\n",
    "print('Conectando ao banco de dados...')\n",
    "try:\n",
    "    conn = engine.connect()\n",
    "    print('Conexão estabelecida com sucesso!')\n",
    "except sqlalchemy.exc.OperationalError as e:\n",
    "    print(f'Erro ao conectar ao banco de dados: {e}')\n",
    "    exit(1)"
   ]
  },
  {
   "cell_type": "markdown",
   "id": "34630776",
   "metadata": {},
   "source": [
    "Carregando os Dataframes no banco "
   ]
  },
  {
   "cell_type": "code",
   "execution_count": 11,
   "id": "cfa37430",
   "metadata": {},
   "outputs": [
    {
     "name": "stdout",
     "output_type": "stream",
     "text": [
      "Criando tabelas no banco de dados...\n",
      "Tabelas criadas com sucesso!\n"
     ]
    }
   ],
   "source": [
    "print('Criando tabelas no banco de dados...')\n",
    "df_customers.to_sql('customers', con=engine, if_exists='replace', index=False)\n",
    "df_geolocation.to_sql('geolocation', con=engine, if_exists='replace', index=False)\n",
    "df_order_item.to_sql('order_item', con=engine, if_exists='replace', index=False)\n",
    "df_order_payment.to_sql('order_payment', con=engine, if_exists='replace', index=False)\n",
    "df_order_reviews.to_sql('order_reviews', con=engine, if_exists='replace', index=False)\n",
    "df_orders.to_sql('orders', con=engine, if_exists='replace', index=False)\n",
    "df_products.to_sql('products', con=engine, if_exists='replace', index=False)\n",
    "df_sellers.to_sql('sellers', con=engine, if_exists='replace', index=False)\n",
    "print('Tabelas criadas com sucesso!')\n",
    "conn.close()"
   ]
  },
  {
   "cell_type": "markdown",
   "id": "86c7b40e",
   "metadata": {},
   "source": [
    "Criando Índices nas tabelas para melhor performance do código"
   ]
  },
  {
   "cell_type": "code",
   "execution_count": 12,
   "id": "c1f10ae1",
   "metadata": {},
   "outputs": [],
   "source": [
    "with engine.connect() as conn:\n",
    "    conn.execute(sqlalchemy.text('CREATE INDEX IF NOT EXISTS idx_orders_customer_id ON orders(customer_id)'))\n",
    "    conn.execute(sqlalchemy.text('CREATE INDEX IF NOT EXISTS idx_orders_order_id ON orders(order_id)'))\n",
    "    conn.execute(sqlalchemy.text('CREATE INDEX IF NOT EXISTS idx_order_item_product_id ON order_item(product_id)'))\n",
    "    conn.execute(sqlalchemy.text('CREATE INDEX IF NOT EXISTS idx_order_item_product_id ON order_item(seller_id)'))\n",
    "    conn.execute(sqlalchemy.text('CREATE INDEX IF NOT EXISTS idx_geolocation_geolocation_zip_code_prefix ON geolocation(geolocation_zip_code_prefix)'))"
   ]
  },
  {
   "cell_type": "code",
   "execution_count": 13,
   "id": "1a513bb4",
   "metadata": {},
   "outputs": [
    {
     "data": {
      "text/plain": [
       "<bound method NDFrame.head of                                 order_id                       customer_id  \\\n",
       "0       00e7ee1b050b8499577073aeb2a297a1  06b8999e2fba1a1fbc88172c00ba8bc7   \n",
       "1       29150127e6685892b6eab3eec79f59c7  18955e83d337fd6b2def6b18a428ac77   \n",
       "2       b2059ed67ce144a36e2aa97d2c9e9ad2  4e7b3e00288586ebd08712fdd0374a03   \n",
       "3       951670f92359f4fe4a63112aa7306eba  b2b6027bc5c5109e529d4dc6358b12c3   \n",
       "4       6b7d50bd145f6fc7f33cebabd7e49d0f  4f2d8ab171c80ec8364f7c12e35b23ad   \n",
       "...                                  ...                               ...   \n",
       "110175  6760e20addcf0121e9d58f2f1ff14298  17ddf5dd5d51696bb3d7c6291687be6f   \n",
       "110176  9ec0c8947d973db4f4e8dcf1fbfa8f1b  e7b71a9017aa05c9a7fd292d714858e8   \n",
       "110177  fed4434add09a6f332ea398efd656a5c  5e28dfe12db7fb50a4b2f691faecea5e   \n",
       "110178  e31ec91cea1ecf97797787471f98a8c2  56b18e2166679b8a959d72dd06da27f9   \n",
       "110179  28db69209a75e59f20ccbb5c36a20b90  274fa6071e5e17fe303b9748641082c8   \n",
       "\n",
       "       order_status                        product_id   price  \n",
       "0         delivered  a9516a079e37a9c9c36b9b78b10169e8  124.99  \n",
       "1         delivered  4aa6014eceb682077f9dc4bffebc05b0  289.00  \n",
       "2         delivered  bd07b66896d6f1494f5b86251848ced7  139.94  \n",
       "3         delivered  a5647c44af977b148e0a3a4751a09e2e  149.94  \n",
       "4         delivered  9391a573abe00141c56e38d84d7d5b3b  230.00  \n",
       "...             ...                               ...     ...  \n",
       "110175    delivered  ccb4503d9d43d245d3b295d0544f988b   74.90  \n",
       "110176    delivered  9ede6b0570a75a4b9de4f383329f99ee  114.90  \n",
       "110177    delivered  7a5d2e1e131a860ae7d18f6fffa9d689   37.00  \n",
       "110178    delivered  f819f0c84a64f02d3a5606ca95edd272  689.00  \n",
       "110179    delivered  017692475c1c954ff597feda05131d73   13.99  \n",
       "\n",
       "[110180 rows x 5 columns]>"
      ]
     },
     "execution_count": 13,
     "metadata": {},
     "output_type": "execute_result"
    }
   ],
   "source": [
    "query = \"\"\"\n",
    "SELECT a.order_id, b.customer_id, a.order_status, c.product_id, c.price\n",
    "FROM orders a\n",
    "JOIN customers b ON a.customer_id = b.customer_id\n",
    "JOIN order_item c ON a.order_id = c.order_id\n",
    "\"\"\"\n",
    "df_joined = pd.read_sql(query, con=engine)\n",
    "\n",
    "df_joined.head\n"
   ]
  },
  {
   "cell_type": "markdown",
   "id": "25939960",
   "metadata": {},
   "source": [
    "## 2.0 Análise exploratória dos dados\n",
    "Qual o volume de pedidos no mês? Existe sazonalidade nas vendas?"
   ]
  },
  {
   "cell_type": "code",
   "execution_count": 15,
   "id": "bb5023d8",
   "metadata": {},
   "outputs": [
    {
     "data": {
      "application/vnd.plotly.v1+json": {
       "config": {
        "plotlyServerURL": "https://plot.ly"
       },
       "data": [
        {
         "hovertemplate": "mes=%{x}<br>total_pedidos=%{y}<extra></extra>",
         "legendgroup": "",
         "line": {
          "color": "#636efa",
          "dash": "solid"
         },
         "marker": {
          "symbol": "circle"
         },
         "mode": "lines",
         "name": "",
         "orientation": "v",
         "showlegend": false,
         "type": "scatter",
         "x": [
          "09/2016",
          "10/2016",
          "12/2016",
          "01/2017",
          "02/2017",
          "03/2017",
          "04/2017",
          "05/2017",
          "06/2017",
          "07/2017",
          "08/2017",
          "09/2017",
          "10/2017",
          "11/2017",
          "12/2017",
          "01/2018",
          "02/2018",
          "03/2018",
          "04/2018",
          "05/2018",
          "06/2018",
          "07/2018",
          "08/2018"
         ],
         "xaxis": "x",
         "y": {
          "bdata": "AQAOAQEA7AJpBvIJ/wjZDT8MIA9hEDUQfhF4HIkVnRucGVsbjhpdGtAXDBjPGA==",
          "dtype": "i2"
         },
         "yaxis": "y"
        }
       ],
       "layout": {
        "legend": {
         "tracegroupgap": 0
        },
        "template": {
         "data": {
          "bar": [
           {
            "error_x": {
             "color": "#2a3f5f"
            },
            "error_y": {
             "color": "#2a3f5f"
            },
            "marker": {
             "line": {
              "color": "#E5ECF6",
              "width": 0.5
             },
             "pattern": {
              "fillmode": "overlay",
              "size": 10,
              "solidity": 0.2
             }
            },
            "type": "bar"
           }
          ],
          "barpolar": [
           {
            "marker": {
             "line": {
              "color": "#E5ECF6",
              "width": 0.5
             },
             "pattern": {
              "fillmode": "overlay",
              "size": 10,
              "solidity": 0.2
             }
            },
            "type": "barpolar"
           }
          ],
          "carpet": [
           {
            "aaxis": {
             "endlinecolor": "#2a3f5f",
             "gridcolor": "white",
             "linecolor": "white",
             "minorgridcolor": "white",
             "startlinecolor": "#2a3f5f"
            },
            "baxis": {
             "endlinecolor": "#2a3f5f",
             "gridcolor": "white",
             "linecolor": "white",
             "minorgridcolor": "white",
             "startlinecolor": "#2a3f5f"
            },
            "type": "carpet"
           }
          ],
          "choropleth": [
           {
            "colorbar": {
             "outlinewidth": 0,
             "ticks": ""
            },
            "type": "choropleth"
           }
          ],
          "contour": [
           {
            "colorbar": {
             "outlinewidth": 0,
             "ticks": ""
            },
            "colorscale": [
             [
              0,
              "#0d0887"
             ],
             [
              0.1111111111111111,
              "#46039f"
             ],
             [
              0.2222222222222222,
              "#7201a8"
             ],
             [
              0.3333333333333333,
              "#9c179e"
             ],
             [
              0.4444444444444444,
              "#bd3786"
             ],
             [
              0.5555555555555556,
              "#d8576b"
             ],
             [
              0.6666666666666666,
              "#ed7953"
             ],
             [
              0.7777777777777778,
              "#fb9f3a"
             ],
             [
              0.8888888888888888,
              "#fdca26"
             ],
             [
              1,
              "#f0f921"
             ]
            ],
            "type": "contour"
           }
          ],
          "contourcarpet": [
           {
            "colorbar": {
             "outlinewidth": 0,
             "ticks": ""
            },
            "type": "contourcarpet"
           }
          ],
          "heatmap": [
           {
            "colorbar": {
             "outlinewidth": 0,
             "ticks": ""
            },
            "colorscale": [
             [
              0,
              "#0d0887"
             ],
             [
              0.1111111111111111,
              "#46039f"
             ],
             [
              0.2222222222222222,
              "#7201a8"
             ],
             [
              0.3333333333333333,
              "#9c179e"
             ],
             [
              0.4444444444444444,
              "#bd3786"
             ],
             [
              0.5555555555555556,
              "#d8576b"
             ],
             [
              0.6666666666666666,
              "#ed7953"
             ],
             [
              0.7777777777777778,
              "#fb9f3a"
             ],
             [
              0.8888888888888888,
              "#fdca26"
             ],
             [
              1,
              "#f0f921"
             ]
            ],
            "type": "heatmap"
           }
          ],
          "histogram": [
           {
            "marker": {
             "pattern": {
              "fillmode": "overlay",
              "size": 10,
              "solidity": 0.2
             }
            },
            "type": "histogram"
           }
          ],
          "histogram2d": [
           {
            "colorbar": {
             "outlinewidth": 0,
             "ticks": ""
            },
            "colorscale": [
             [
              0,
              "#0d0887"
             ],
             [
              0.1111111111111111,
              "#46039f"
             ],
             [
              0.2222222222222222,
              "#7201a8"
             ],
             [
              0.3333333333333333,
              "#9c179e"
             ],
             [
              0.4444444444444444,
              "#bd3786"
             ],
             [
              0.5555555555555556,
              "#d8576b"
             ],
             [
              0.6666666666666666,
              "#ed7953"
             ],
             [
              0.7777777777777778,
              "#fb9f3a"
             ],
             [
              0.8888888888888888,
              "#fdca26"
             ],
             [
              1,
              "#f0f921"
             ]
            ],
            "type": "histogram2d"
           }
          ],
          "histogram2dcontour": [
           {
            "colorbar": {
             "outlinewidth": 0,
             "ticks": ""
            },
            "colorscale": [
             [
              0,
              "#0d0887"
             ],
             [
              0.1111111111111111,
              "#46039f"
             ],
             [
              0.2222222222222222,
              "#7201a8"
             ],
             [
              0.3333333333333333,
              "#9c179e"
             ],
             [
              0.4444444444444444,
              "#bd3786"
             ],
             [
              0.5555555555555556,
              "#d8576b"
             ],
             [
              0.6666666666666666,
              "#ed7953"
             ],
             [
              0.7777777777777778,
              "#fb9f3a"
             ],
             [
              0.8888888888888888,
              "#fdca26"
             ],
             [
              1,
              "#f0f921"
             ]
            ],
            "type": "histogram2dcontour"
           }
          ],
          "mesh3d": [
           {
            "colorbar": {
             "outlinewidth": 0,
             "ticks": ""
            },
            "type": "mesh3d"
           }
          ],
          "parcoords": [
           {
            "line": {
             "colorbar": {
              "outlinewidth": 0,
              "ticks": ""
             }
            },
            "type": "parcoords"
           }
          ],
          "pie": [
           {
            "automargin": true,
            "type": "pie"
           }
          ],
          "scatter": [
           {
            "fillpattern": {
             "fillmode": "overlay",
             "size": 10,
             "solidity": 0.2
            },
            "type": "scatter"
           }
          ],
          "scatter3d": [
           {
            "line": {
             "colorbar": {
              "outlinewidth": 0,
              "ticks": ""
             }
            },
            "marker": {
             "colorbar": {
              "outlinewidth": 0,
              "ticks": ""
             }
            },
            "type": "scatter3d"
           }
          ],
          "scattercarpet": [
           {
            "marker": {
             "colorbar": {
              "outlinewidth": 0,
              "ticks": ""
             }
            },
            "type": "scattercarpet"
           }
          ],
          "scattergeo": [
           {
            "marker": {
             "colorbar": {
              "outlinewidth": 0,
              "ticks": ""
             }
            },
            "type": "scattergeo"
           }
          ],
          "scattergl": [
           {
            "marker": {
             "colorbar": {
              "outlinewidth": 0,
              "ticks": ""
             }
            },
            "type": "scattergl"
           }
          ],
          "scattermap": [
           {
            "marker": {
             "colorbar": {
              "outlinewidth": 0,
              "ticks": ""
             }
            },
            "type": "scattermap"
           }
          ],
          "scattermapbox": [
           {
            "marker": {
             "colorbar": {
              "outlinewidth": 0,
              "ticks": ""
             }
            },
            "type": "scattermapbox"
           }
          ],
          "scatterpolar": [
           {
            "marker": {
             "colorbar": {
              "outlinewidth": 0,
              "ticks": ""
             }
            },
            "type": "scatterpolar"
           }
          ],
          "scatterpolargl": [
           {
            "marker": {
             "colorbar": {
              "outlinewidth": 0,
              "ticks": ""
             }
            },
            "type": "scatterpolargl"
           }
          ],
          "scatterternary": [
           {
            "marker": {
             "colorbar": {
              "outlinewidth": 0,
              "ticks": ""
             }
            },
            "type": "scatterternary"
           }
          ],
          "surface": [
           {
            "colorbar": {
             "outlinewidth": 0,
             "ticks": ""
            },
            "colorscale": [
             [
              0,
              "#0d0887"
             ],
             [
              0.1111111111111111,
              "#46039f"
             ],
             [
              0.2222222222222222,
              "#7201a8"
             ],
             [
              0.3333333333333333,
              "#9c179e"
             ],
             [
              0.4444444444444444,
              "#bd3786"
             ],
             [
              0.5555555555555556,
              "#d8576b"
             ],
             [
              0.6666666666666666,
              "#ed7953"
             ],
             [
              0.7777777777777778,
              "#fb9f3a"
             ],
             [
              0.8888888888888888,
              "#fdca26"
             ],
             [
              1,
              "#f0f921"
             ]
            ],
            "type": "surface"
           }
          ],
          "table": [
           {
            "cells": {
             "fill": {
              "color": "#EBF0F8"
             },
             "line": {
              "color": "white"
             }
            },
            "header": {
             "fill": {
              "color": "#C8D4E3"
             },
             "line": {
              "color": "white"
             }
            },
            "type": "table"
           }
          ]
         },
         "layout": {
          "annotationdefaults": {
           "arrowcolor": "#2a3f5f",
           "arrowhead": 0,
           "arrowwidth": 1
          },
          "autotypenumbers": "strict",
          "coloraxis": {
           "colorbar": {
            "outlinewidth": 0,
            "ticks": ""
           }
          },
          "colorscale": {
           "diverging": [
            [
             0,
             "#8e0152"
            ],
            [
             0.1,
             "#c51b7d"
            ],
            [
             0.2,
             "#de77ae"
            ],
            [
             0.3,
             "#f1b6da"
            ],
            [
             0.4,
             "#fde0ef"
            ],
            [
             0.5,
             "#f7f7f7"
            ],
            [
             0.6,
             "#e6f5d0"
            ],
            [
             0.7,
             "#b8e186"
            ],
            [
             0.8,
             "#7fbc41"
            ],
            [
             0.9,
             "#4d9221"
            ],
            [
             1,
             "#276419"
            ]
           ],
           "sequential": [
            [
             0,
             "#0d0887"
            ],
            [
             0.1111111111111111,
             "#46039f"
            ],
            [
             0.2222222222222222,
             "#7201a8"
            ],
            [
             0.3333333333333333,
             "#9c179e"
            ],
            [
             0.4444444444444444,
             "#bd3786"
            ],
            [
             0.5555555555555556,
             "#d8576b"
            ],
            [
             0.6666666666666666,
             "#ed7953"
            ],
            [
             0.7777777777777778,
             "#fb9f3a"
            ],
            [
             0.8888888888888888,
             "#fdca26"
            ],
            [
             1,
             "#f0f921"
            ]
           ],
           "sequentialminus": [
            [
             0,
             "#0d0887"
            ],
            [
             0.1111111111111111,
             "#46039f"
            ],
            [
             0.2222222222222222,
             "#7201a8"
            ],
            [
             0.3333333333333333,
             "#9c179e"
            ],
            [
             0.4444444444444444,
             "#bd3786"
            ],
            [
             0.5555555555555556,
             "#d8576b"
            ],
            [
             0.6666666666666666,
             "#ed7953"
            ],
            [
             0.7777777777777778,
             "#fb9f3a"
            ],
            [
             0.8888888888888888,
             "#fdca26"
            ],
            [
             1,
             "#f0f921"
            ]
           ]
          },
          "colorway": [
           "#636efa",
           "#EF553B",
           "#00cc96",
           "#ab63fa",
           "#FFA15A",
           "#19d3f3",
           "#FF6692",
           "#B6E880",
           "#FF97FF",
           "#FECB52"
          ],
          "font": {
           "color": "#2a3f5f"
          },
          "geo": {
           "bgcolor": "white",
           "lakecolor": "white",
           "landcolor": "#E5ECF6",
           "showlakes": true,
           "showland": true,
           "subunitcolor": "white"
          },
          "hoverlabel": {
           "align": "left"
          },
          "hovermode": "closest",
          "mapbox": {
           "style": "light"
          },
          "paper_bgcolor": "white",
          "plot_bgcolor": "#E5ECF6",
          "polar": {
           "angularaxis": {
            "gridcolor": "white",
            "linecolor": "white",
            "ticks": ""
           },
           "bgcolor": "#E5ECF6",
           "radialaxis": {
            "gridcolor": "white",
            "linecolor": "white",
            "ticks": ""
           }
          },
          "scene": {
           "xaxis": {
            "backgroundcolor": "#E5ECF6",
            "gridcolor": "white",
            "gridwidth": 2,
            "linecolor": "white",
            "showbackground": true,
            "ticks": "",
            "zerolinecolor": "white"
           },
           "yaxis": {
            "backgroundcolor": "#E5ECF6",
            "gridcolor": "white",
            "gridwidth": 2,
            "linecolor": "white",
            "showbackground": true,
            "ticks": "",
            "zerolinecolor": "white"
           },
           "zaxis": {
            "backgroundcolor": "#E5ECF6",
            "gridcolor": "white",
            "gridwidth": 2,
            "linecolor": "white",
            "showbackground": true,
            "ticks": "",
            "zerolinecolor": "white"
           }
          },
          "shapedefaults": {
           "line": {
            "color": "#2a3f5f"
           }
          },
          "ternary": {
           "aaxis": {
            "gridcolor": "white",
            "linecolor": "white",
            "ticks": ""
           },
           "baxis": {
            "gridcolor": "white",
            "linecolor": "white",
            "ticks": ""
           },
           "bgcolor": "#E5ECF6",
           "caxis": {
            "gridcolor": "white",
            "linecolor": "white",
            "ticks": ""
           }
          },
          "title": {
           "x": 0.05
          },
          "xaxis": {
           "automargin": true,
           "gridcolor": "white",
           "linecolor": "white",
           "ticks": "",
           "title": {
            "standoff": 15
           },
           "zerolinecolor": "white",
           "zerolinewidth": 2
          },
          "yaxis": {
           "automargin": true,
           "gridcolor": "white",
           "linecolor": "white",
           "ticks": "",
           "title": {
            "standoff": 15
           },
           "zerolinecolor": "white",
           "zerolinewidth": 2
          }
         }
        },
        "title": {
         "text": "Pedidos por Mês"
        },
        "xaxis": {
         "anchor": "y",
         "domain": [
          0,
          1
         ],
         "title": {
          "text": "Mês"
         }
        },
        "yaxis": {
         "anchor": "x",
         "domain": [
          0,
          1
         ],
         "title": {
          "text": "Total de Pedidos"
         }
        }
       }
      }
     },
     "metadata": {},
     "output_type": "display_data"
    }
   ],
   "source": [
    "df_pedidos_mes = pd.read_sql('''\n",
    "SELECT strftime('%m/%Y', order_purchase_timestamp) AS mes, COUNT(*) AS total_pedidos\n",
    "FROM orders\n",
    "GROUP BY mes\n",
    "ORDER BY order_purchase_timestamp\n",
    "''', con=engine)\n",
    "\n",
    "df_pedidos_mes['total_pedidos'] = df_pedidos_mes['total_pedidos'].astype(int)\n",
    "\n",
    "fig = px.line(df_pedidos_mes, x='mes', y='total_pedidos', title='Pedidos por Mês')\n",
    "fig.update_layout(xaxis_title='Mês', yaxis_title='Total de Pedidos')\n",
    "fig.show()\n"
   ]
  },
  {
   "cell_type": "markdown",
   "id": "a14073ad",
   "metadata": {},
   "source": [
    "2.1: Qual a distribuição do tempo de entrega dos pedidos?"
   ]
  },
  {
   "cell_type": "code",
   "execution_count": null,
   "id": "51a26dcd",
   "metadata": {},
   "outputs": [
    {
     "data": {
      "application/vnd.plotly.v1+json": {
       "config": {
        "plotlyServerURL": "https://plot.ly"
       },
       "data": [
        {
         "bingroup": "x",
         "hovertemplate": "tempo_entrega=%{x}<br>count=%{y}<extra></extra>",
         "legendgroup": "",
         "marker": {
          "color": "#636efa",
          "pattern": {
           "shape": ""
          }
         },
         "name": "",
         "nbinsx": 30,
         "orientation": "v",
         "showlegend": false,
         "type": "histogram",
         "x": {
          "bdata": "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",
          "dtype": "i1"
         },
         "xaxis": "x",
         "yaxis": "y"
        }
       ],
       "layout": {
        "barmode": "relative",
        "legend": {
         "tracegroupgap": 0
        },
        "template": {
         "data": {
          "bar": [
           {
            "error_x": {
             "color": "#2a3f5f"
            },
            "error_y": {
             "color": "#2a3f5f"
            },
            "marker": {
             "line": {
              "color": "#E5ECF6",
              "width": 0.5
             },
             "pattern": {
              "fillmode": "overlay",
              "size": 10,
              "solidity": 0.2
             }
            },
            "type": "bar"
           }
          ],
          "barpolar": [
           {
            "marker": {
             "line": {
              "color": "#E5ECF6",
              "width": 0.5
             },
             "pattern": {
              "fillmode": "overlay",
              "size": 10,
              "solidity": 0.2
             }
            },
            "type": "barpolar"
           }
          ],
          "carpet": [
           {
            "aaxis": {
             "endlinecolor": "#2a3f5f",
             "gridcolor": "white",
             "linecolor": "white",
             "minorgridcolor": "white",
             "startlinecolor": "#2a3f5f"
            },
            "baxis": {
             "endlinecolor": "#2a3f5f",
             "gridcolor": "white",
             "linecolor": "white",
             "minorgridcolor": "white",
             "startlinecolor": "#2a3f5f"
            },
            "type": "carpet"
           }
          ],
          "choropleth": [
           {
            "colorbar": {
             "outlinewidth": 0,
             "ticks": ""
            },
            "type": "choropleth"
           }
          ],
          "contour": [
           {
            "colorbar": {
             "outlinewidth": 0,
             "ticks": ""
            },
            "colorscale": [
             [
              0,
              "#0d0887"
             ],
             [
              0.1111111111111111,
              "#46039f"
             ],
             [
              0.2222222222222222,
              "#7201a8"
             ],
             [
              0.3333333333333333,
              "#9c179e"
             ],
             [
              0.4444444444444444,
              "#bd3786"
             ],
             [
              0.5555555555555556,
              "#d8576b"
             ],
             [
              0.6666666666666666,
              "#ed7953"
             ],
             [
              0.7777777777777778,
              "#fb9f3a"
             ],
             [
              0.8888888888888888,
              "#fdca26"
             ],
             [
              1,
              "#f0f921"
             ]
            ],
            "type": "contour"
           }
          ],
          "contourcarpet": [
           {
            "colorbar": {
             "outlinewidth": 0,
             "ticks": ""
            },
            "type": "contourcarpet"
           }
          ],
          "heatmap": [
           {
            "colorbar": {
             "outlinewidth": 0,
             "ticks": ""
            },
            "colorscale": [
             [
              0,
              "#0d0887"
             ],
             [
              0.1111111111111111,
              "#46039f"
             ],
             [
              0.2222222222222222,
              "#7201a8"
             ],
             [
              0.3333333333333333,
              "#9c179e"
             ],
             [
              0.4444444444444444,
              "#bd3786"
             ],
             [
              0.5555555555555556,
              "#d8576b"
             ],
             [
              0.6666666666666666,
              "#ed7953"
             ],
             [
              0.7777777777777778,
              "#fb9f3a"
             ],
             [
              0.8888888888888888,
              "#fdca26"
             ],
             [
              1,
              "#f0f921"
             ]
            ],
            "type": "heatmap"
           }
          ],
          "histogram": [
           {
            "marker": {
             "pattern": {
              "fillmode": "overlay",
              "size": 10,
              "solidity": 0.2
             }
            },
            "type": "histogram"
           }
          ],
          "histogram2d": [
           {
            "colorbar": {
             "outlinewidth": 0,
             "ticks": ""
            },
            "colorscale": [
             [
              0,
              "#0d0887"
             ],
             [
              0.1111111111111111,
              "#46039f"
             ],
             [
              0.2222222222222222,
              "#7201a8"
             ],
             [
              0.3333333333333333,
              "#9c179e"
             ],
             [
              0.4444444444444444,
              "#bd3786"
             ],
             [
              0.5555555555555556,
              "#d8576b"
             ],
             [
              0.6666666666666666,
              "#ed7953"
             ],
             [
              0.7777777777777778,
              "#fb9f3a"
             ],
             [
              0.8888888888888888,
              "#fdca26"
             ],
             [
              1,
              "#f0f921"
             ]
            ],
            "type": "histogram2d"
           }
          ],
          "histogram2dcontour": [
           {
            "colorbar": {
             "outlinewidth": 0,
             "ticks": ""
            },
            "colorscale": [
             [
              0,
              "#0d0887"
             ],
             [
              0.1111111111111111,
              "#46039f"
             ],
             [
              0.2222222222222222,
              "#7201a8"
             ],
             [
              0.3333333333333333,
              "#9c179e"
             ],
             [
              0.4444444444444444,
              "#bd3786"
             ],
             [
              0.5555555555555556,
              "#d8576b"
             ],
             [
              0.6666666666666666,
              "#ed7953"
             ],
             [
              0.7777777777777778,
              "#fb9f3a"
             ],
             [
              0.8888888888888888,
              "#fdca26"
             ],
             [
              1,
              "#f0f921"
             ]
            ],
            "type": "histogram2dcontour"
           }
          ],
          "mesh3d": [
           {
            "colorbar": {
             "outlinewidth": 0,
             "ticks": ""
            },
            "type": "mesh3d"
           }
          ],
          "parcoords": [
           {
            "line": {
             "colorbar": {
              "outlinewidth": 0,
              "ticks": ""
             }
            },
            "type": "parcoords"
           }
          ],
          "pie": [
           {
            "automargin": true,
            "type": "pie"
           }
          ],
          "scatter": [
           {
            "fillpattern": {
             "fillmode": "overlay",
             "size": 10,
             "solidity": 0.2
            },
            "type": "scatter"
           }
          ],
          "scatter3d": [
           {
            "line": {
             "colorbar": {
              "outlinewidth": 0,
              "ticks": ""
             }
            },
            "marker": {
             "colorbar": {
              "outlinewidth": 0,
              "ticks": ""
             }
            },
            "type": "scatter3d"
           }
          ],
          "scattercarpet": [
           {
            "marker": {
             "colorbar": {
              "outlinewidth": 0,
              "ticks": ""
             }
            },
            "type": "scattercarpet"
           }
          ],
          "scattergeo": [
           {
            "marker": {
             "colorbar": {
              "outlinewidth": 0,
              "ticks": ""
             }
            },
            "type": "scattergeo"
           }
          ],
          "scattergl": [
           {
            "marker": {
             "colorbar": {
              "outlinewidth": 0,
              "ticks": ""
             }
            },
            "type": "scattergl"
           }
          ],
          "scattermap": [
           {
            "marker": {
             "colorbar": {
              "outlinewidth": 0,
              "ticks": ""
             }
            },
            "type": "scattermap"
           }
          ],
          "scattermapbox": [
           {
            "marker": {
             "colorbar": {
              "outlinewidth": 0,
              "ticks": ""
             }
            },
            "type": "scattermapbox"
           }
          ],
          "scatterpolar": [
           {
            "marker": {
             "colorbar": {
              "outlinewidth": 0,
              "ticks": ""
             }
            },
            "type": "scatterpolar"
           }
          ],
          "scatterpolargl": [
           {
            "marker": {
             "colorbar": {
              "outlinewidth": 0,
              "ticks": ""
             }
            },
            "type": "scatterpolargl"
           }
          ],
          "scatterternary": [
           {
            "marker": {
             "colorbar": {
              "outlinewidth": 0,
              "ticks": ""
             }
            },
            "type": "scatterternary"
           }
          ],
          "surface": [
           {
            "colorbar": {
             "outlinewidth": 0,
             "ticks": ""
            },
            "colorscale": [
             [
              0,
              "#0d0887"
             ],
             [
              0.1111111111111111,
              "#46039f"
             ],
             [
              0.2222222222222222,
              "#7201a8"
             ],
             [
              0.3333333333333333,
              "#9c179e"
             ],
             [
              0.4444444444444444,
              "#bd3786"
             ],
             [
              0.5555555555555556,
              "#d8576b"
             ],
             [
              0.6666666666666666,
              "#ed7953"
             ],
             [
              0.7777777777777778,
              "#fb9f3a"
             ],
             [
              0.8888888888888888,
              "#fdca26"
             ],
             [
              1,
              "#f0f921"
             ]
            ],
            "type": "surface"
           }
          ],
          "table": [
           {
            "cells": {
             "fill": {
              "color": "#EBF0F8"
             },
             "line": {
              "color": "white"
             }
            },
            "header": {
             "fill": {
              "color": "#C8D4E3"
             },
             "line": {
              "color": "white"
             }
            },
            "type": "table"
           }
          ]
         },
         "layout": {
          "annotationdefaults": {
           "arrowcolor": "#2a3f5f",
           "arrowhead": 0,
           "arrowwidth": 1
          },
          "autotypenumbers": "strict",
          "coloraxis": {
           "colorbar": {
            "outlinewidth": 0,
            "ticks": ""
           }
          },
          "colorscale": {
           "diverging": [
            [
             0,
             "#8e0152"
            ],
            [
             0.1,
             "#c51b7d"
            ],
            [
             0.2,
             "#de77ae"
            ],
            [
             0.3,
             "#f1b6da"
            ],
            [
             0.4,
             "#fde0ef"
            ],
            [
             0.5,
             "#f7f7f7"
            ],
            [
             0.6,
             "#e6f5d0"
            ],
            [
             0.7,
             "#b8e186"
            ],
            [
             0.8,
             "#7fbc41"
            ],
            [
             0.9,
             "#4d9221"
            ],
            [
             1,
             "#276419"
            ]
           ],
           "sequential": [
            [
             0,
             "#0d0887"
            ],
            [
             0.1111111111111111,
             "#46039f"
            ],
            [
             0.2222222222222222,
             "#7201a8"
            ],
            [
             0.3333333333333333,
             "#9c179e"
            ],
            [
             0.4444444444444444,
             "#bd3786"
            ],
            [
             0.5555555555555556,
             "#d8576b"
            ],
            [
             0.6666666666666666,
             "#ed7953"
            ],
            [
             0.7777777777777778,
             "#fb9f3a"
            ],
            [
             0.8888888888888888,
             "#fdca26"
            ],
            [
             1,
             "#f0f921"
            ]
           ],
           "sequentialminus": [
            [
             0,
             "#0d0887"
            ],
            [
             0.1111111111111111,
             "#46039f"
            ],
            [
             0.2222222222222222,
             "#7201a8"
            ],
            [
             0.3333333333333333,
             "#9c179e"
            ],
            [
             0.4444444444444444,
             "#bd3786"
            ],
            [
             0.5555555555555556,
             "#d8576b"
            ],
            [
             0.6666666666666666,
             "#ed7953"
            ],
            [
             0.7777777777777778,
             "#fb9f3a"
            ],
            [
             0.8888888888888888,
             "#fdca26"
            ],
            [
             1,
             "#f0f921"
            ]
           ]
          },
          "colorway": [
           "#636efa",
           "#EF553B",
           "#00cc96",
           "#ab63fa",
           "#FFA15A",
           "#19d3f3",
           "#FF6692",
           "#B6E880",
           "#FF97FF",
           "#FECB52"
          ],
          "font": {
           "color": "#2a3f5f"
          },
          "geo": {
           "bgcolor": "white",
           "lakecolor": "white",
           "landcolor": "#E5ECF6",
           "showlakes": true,
           "showland": true,
           "subunitcolor": "white"
          },
          "hoverlabel": {
           "align": "left"
          },
          "hovermode": "closest",
          "mapbox": {
           "style": "light"
          },
          "paper_bgcolor": "white",
          "plot_bgcolor": "#E5ECF6",
          "polar": {
           "angularaxis": {
            "gridcolor": "white",
            "linecolor": "white",
            "ticks": ""
           },
           "bgcolor": "#E5ECF6",
           "radialaxis": {
            "gridcolor": "white",
            "linecolor": "white",
            "ticks": ""
           }
          },
          "scene": {
           "xaxis": {
            "backgroundcolor": "#E5ECF6",
            "gridcolor": "white",
            "gridwidth": 2,
            "linecolor": "white",
            "showbackground": true,
            "ticks": "",
            "zerolinecolor": "white"
           },
           "yaxis": {
            "backgroundcolor": "#E5ECF6",
            "gridcolor": "white",
            "gridwidth": 2,
            "linecolor": "white",
            "showbackground": true,
            "ticks": "",
            "zerolinecolor": "white"
           },
           "zaxis": {
            "backgroundcolor": "#E5ECF6",
            "gridcolor": "white",
            "gridwidth": 2,
            "linecolor": "white",
            "showbackground": true,
            "ticks": "",
            "zerolinecolor": "white"
           }
          },
          "shapedefaults": {
           "line": {
            "color": "#2a3f5f"
           }
          },
          "ternary": {
           "aaxis": {
            "gridcolor": "white",
            "linecolor": "white",
            "ticks": ""
           },
           "baxis": {
            "gridcolor": "white",
            "linecolor": "white",
            "ticks": ""
           },
           "bgcolor": "#E5ECF6",
           "caxis": {
            "gridcolor": "white",
            "linecolor": "white",
            "ticks": ""
           }
          },
          "title": {
           "x": 0.05
          },
          "xaxis": {
           "automargin": true,
           "gridcolor": "white",
           "linecolor": "white",
           "ticks": "",
           "title": {
            "standoff": 15
           },
           "zerolinecolor": "white",
           "zerolinewidth": 2
          },
          "yaxis": {
           "automargin": true,
           "gridcolor": "white",
           "linecolor": "white",
           "ticks": "",
           "title": {
            "standoff": 15
           },
           "zerolinecolor": "white",
           "zerolinewidth": 2
          }
         }
        },
        "title": {
         "text": "Distribuição do Tempo de Entrega (em dias)"
        },
        "xaxis": {
         "anchor": "y",
         "domain": [
          0,
          1
         ],
         "title": {
          "text": "Dias para entrega"
         }
        },
        "yaxis": {
         "anchor": "x",
         "domain": [
          0,
          1
         ],
         "title": {
          "text": "Número de pedidos"
         }
        }
       }
      }
     },
     "metadata": {},
     "output_type": "display_data"
    }
   ],
   "source": [
    "df_time_delivery = pd.read_sql('SELECT order_delivered_customer_date, order_purchase_timestamp FROM orders WHERE order_delivered_customer_date IS NOT NULL', con=engine)\n",
    "df_time_delivery['tempo_entrega'] = (pd.to_datetime(df_time_delivery['order_delivered_customer_date']) - pd.to_datetime(df_time_delivery['order_purchase_timestamp'])).dt.days\n",
    "\n",
    "df_time_delivery = df_time_delivery[df_time_delivery['tempo_entrega'] < 100] #Retirando um outlier\n",
    "\n",
    "fig = px.histogram(df_time_delivery, x='tempo_entrega', nbins=30, title='Distribuição do Tempo de Entrega (em dias)')\n",
    "fig.update_layout(xaxis_title='Dias para entrega', yaxis_title='Número de pedidos')\n",
    "fig.show()\n"
   ]
  },
  {
   "cell_type": "markdown",
   "id": "217374c7",
   "metadata": {},
   "source": [
    "2.2: Quais são as categorias de produtos mais vendidas em termos de faturamento?"
   ]
  },
  {
   "cell_type": "code",
   "execution_count": 29,
   "id": "64726526",
   "metadata": {},
   "outputs": [
    {
     "data": {
      "application/vnd.plotly.v1+json": {
       "config": {
        "plotlyServerURL": "https://plot.ly"
       },
       "data": [
        {
         "hovertemplate": "Categoria=%{x}<br>faturamento_total=%{y}<extra></extra>",
         "legendgroup": "",
         "marker": {
          "color": "#636efa",
          "pattern": {
           "shape": ""
          }
         },
         "name": "",
         "orientation": "v",
         "showlegend": false,
         "textposition": "auto",
         "texttemplate": "%{y}",
         "type": "bar",
         "x": [
          "beleza_saude",
          "relogios_presentes",
          "cama_mesa_banho",
          "esporte_lazer",
          "informatica_acessorios",
          "moveis_decoracao",
          "cool_stuff",
          "utilidades_domesticas",
          "automotivo",
          "ferramentas_jardim"
         ],
         "xaxis": "x",
         "y": {
          "bdata": "cT0KV7k0M0HhehSuDWMyQcP1KFx5pS9BCtej8CEnLkE9CtejpNQrQa5H4fpERSZBMzMzszVjI0EfhetRcUsjQYXrUTigFiJBcT0K1yGeHUE=",
          "dtype": "f8"
         },
         "yaxis": "y"
        }
       ],
       "layout": {
        "barmode": "relative",
        "legend": {
         "tracegroupgap": 0
        },
        "template": {
         "data": {
          "bar": [
           {
            "error_x": {
             "color": "#2a3f5f"
            },
            "error_y": {
             "color": "#2a3f5f"
            },
            "marker": {
             "line": {
              "color": "#E5ECF6",
              "width": 0.5
             },
             "pattern": {
              "fillmode": "overlay",
              "size": 10,
              "solidity": 0.2
             }
            },
            "type": "bar"
           }
          ],
          "barpolar": [
           {
            "marker": {
             "line": {
              "color": "#E5ECF6",
              "width": 0.5
             },
             "pattern": {
              "fillmode": "overlay",
              "size": 10,
              "solidity": 0.2
             }
            },
            "type": "barpolar"
           }
          ],
          "carpet": [
           {
            "aaxis": {
             "endlinecolor": "#2a3f5f",
             "gridcolor": "white",
             "linecolor": "white",
             "minorgridcolor": "white",
             "startlinecolor": "#2a3f5f"
            },
            "baxis": {
             "endlinecolor": "#2a3f5f",
             "gridcolor": "white",
             "linecolor": "white",
             "minorgridcolor": "white",
             "startlinecolor": "#2a3f5f"
            },
            "type": "carpet"
           }
          ],
          "choropleth": [
           {
            "colorbar": {
             "outlinewidth": 0,
             "ticks": ""
            },
            "type": "choropleth"
           }
          ],
          "contour": [
           {
            "colorbar": {
             "outlinewidth": 0,
             "ticks": ""
            },
            "colorscale": [
             [
              0,
              "#0d0887"
             ],
             [
              0.1111111111111111,
              "#46039f"
             ],
             [
              0.2222222222222222,
              "#7201a8"
             ],
             [
              0.3333333333333333,
              "#9c179e"
             ],
             [
              0.4444444444444444,
              "#bd3786"
             ],
             [
              0.5555555555555556,
              "#d8576b"
             ],
             [
              0.6666666666666666,
              "#ed7953"
             ],
             [
              0.7777777777777778,
              "#fb9f3a"
             ],
             [
              0.8888888888888888,
              "#fdca26"
             ],
             [
              1,
              "#f0f921"
             ]
            ],
            "type": "contour"
           }
          ],
          "contourcarpet": [
           {
            "colorbar": {
             "outlinewidth": 0,
             "ticks": ""
            },
            "type": "contourcarpet"
           }
          ],
          "heatmap": [
           {
            "colorbar": {
             "outlinewidth": 0,
             "ticks": ""
            },
            "colorscale": [
             [
              0,
              "#0d0887"
             ],
             [
              0.1111111111111111,
              "#46039f"
             ],
             [
              0.2222222222222222,
              "#7201a8"
             ],
             [
              0.3333333333333333,
              "#9c179e"
             ],
             [
              0.4444444444444444,
              "#bd3786"
             ],
             [
              0.5555555555555556,
              "#d8576b"
             ],
             [
              0.6666666666666666,
              "#ed7953"
             ],
             [
              0.7777777777777778,
              "#fb9f3a"
             ],
             [
              0.8888888888888888,
              "#fdca26"
             ],
             [
              1,
              "#f0f921"
             ]
            ],
            "type": "heatmap"
           }
          ],
          "histogram": [
           {
            "marker": {
             "pattern": {
              "fillmode": "overlay",
              "size": 10,
              "solidity": 0.2
             }
            },
            "type": "histogram"
           }
          ],
          "histogram2d": [
           {
            "colorbar": {
             "outlinewidth": 0,
             "ticks": ""
            },
            "colorscale": [
             [
              0,
              "#0d0887"
             ],
             [
              0.1111111111111111,
              "#46039f"
             ],
             [
              0.2222222222222222,
              "#7201a8"
             ],
             [
              0.3333333333333333,
              "#9c179e"
             ],
             [
              0.4444444444444444,
              "#bd3786"
             ],
             [
              0.5555555555555556,
              "#d8576b"
             ],
             [
              0.6666666666666666,
              "#ed7953"
             ],
             [
              0.7777777777777778,
              "#fb9f3a"
             ],
             [
              0.8888888888888888,
              "#fdca26"
             ],
             [
              1,
              "#f0f921"
             ]
            ],
            "type": "histogram2d"
           }
          ],
          "histogram2dcontour": [
           {
            "colorbar": {
             "outlinewidth": 0,
             "ticks": ""
            },
            "colorscale": [
             [
              0,
              "#0d0887"
             ],
             [
              0.1111111111111111,
              "#46039f"
             ],
             [
              0.2222222222222222,
              "#7201a8"
             ],
             [
              0.3333333333333333,
              "#9c179e"
             ],
             [
              0.4444444444444444,
              "#bd3786"
             ],
             [
              0.5555555555555556,
              "#d8576b"
             ],
             [
              0.6666666666666666,
              "#ed7953"
             ],
             [
              0.7777777777777778,
              "#fb9f3a"
             ],
             [
              0.8888888888888888,
              "#fdca26"
             ],
             [
              1,
              "#f0f921"
             ]
            ],
            "type": "histogram2dcontour"
           }
          ],
          "mesh3d": [
           {
            "colorbar": {
             "outlinewidth": 0,
             "ticks": ""
            },
            "type": "mesh3d"
           }
          ],
          "parcoords": [
           {
            "line": {
             "colorbar": {
              "outlinewidth": 0,
              "ticks": ""
             }
            },
            "type": "parcoords"
           }
          ],
          "pie": [
           {
            "automargin": true,
            "type": "pie"
           }
          ],
          "scatter": [
           {
            "fillpattern": {
             "fillmode": "overlay",
             "size": 10,
             "solidity": 0.2
            },
            "type": "scatter"
           }
          ],
          "scatter3d": [
           {
            "line": {
             "colorbar": {
              "outlinewidth": 0,
              "ticks": ""
             }
            },
            "marker": {
             "colorbar": {
              "outlinewidth": 0,
              "ticks": ""
             }
            },
            "type": "scatter3d"
           }
          ],
          "scattercarpet": [
           {
            "marker": {
             "colorbar": {
              "outlinewidth": 0,
              "ticks": ""
             }
            },
            "type": "scattercarpet"
           }
          ],
          "scattergeo": [
           {
            "marker": {
             "colorbar": {
              "outlinewidth": 0,
              "ticks": ""
             }
            },
            "type": "scattergeo"
           }
          ],
          "scattergl": [
           {
            "marker": {
             "colorbar": {
              "outlinewidth": 0,
              "ticks": ""
             }
            },
            "type": "scattergl"
           }
          ],
          "scattermap": [
           {
            "marker": {
             "colorbar": {
              "outlinewidth": 0,
              "ticks": ""
             }
            },
            "type": "scattermap"
           }
          ],
          "scattermapbox": [
           {
            "marker": {
             "colorbar": {
              "outlinewidth": 0,
              "ticks": ""
             }
            },
            "type": "scattermapbox"
           }
          ],
          "scatterpolar": [
           {
            "marker": {
             "colorbar": {
              "outlinewidth": 0,
              "ticks": ""
             }
            },
            "type": "scatterpolar"
           }
          ],
          "scatterpolargl": [
           {
            "marker": {
             "colorbar": {
              "outlinewidth": 0,
              "ticks": ""
             }
            },
            "type": "scatterpolargl"
           }
          ],
          "scatterternary": [
           {
            "marker": {
             "colorbar": {
              "outlinewidth": 0,
              "ticks": ""
             }
            },
            "type": "scatterternary"
           }
          ],
          "surface": [
           {
            "colorbar": {
             "outlinewidth": 0,
             "ticks": ""
            },
            "colorscale": [
             [
              0,
              "#0d0887"
             ],
             [
              0.1111111111111111,
              "#46039f"
             ],
             [
              0.2222222222222222,
              "#7201a8"
             ],
             [
              0.3333333333333333,
              "#9c179e"
             ],
             [
              0.4444444444444444,
              "#bd3786"
             ],
             [
              0.5555555555555556,
              "#d8576b"
             ],
             [
              0.6666666666666666,
              "#ed7953"
             ],
             [
              0.7777777777777778,
              "#fb9f3a"
             ],
             [
              0.8888888888888888,
              "#fdca26"
             ],
             [
              1,
              "#f0f921"
             ]
            ],
            "type": "surface"
           }
          ],
          "table": [
           {
            "cells": {
             "fill": {
              "color": "#EBF0F8"
             },
             "line": {
              "color": "white"
             }
            },
            "header": {
             "fill": {
              "color": "#C8D4E3"
             },
             "line": {
              "color": "white"
             }
            },
            "type": "table"
           }
          ]
         },
         "layout": {
          "annotationdefaults": {
           "arrowcolor": "#2a3f5f",
           "arrowhead": 0,
           "arrowwidth": 1
          },
          "autotypenumbers": "strict",
          "coloraxis": {
           "colorbar": {
            "outlinewidth": 0,
            "ticks": ""
           }
          },
          "colorscale": {
           "diverging": [
            [
             0,
             "#8e0152"
            ],
            [
             0.1,
             "#c51b7d"
            ],
            [
             0.2,
             "#de77ae"
            ],
            [
             0.3,
             "#f1b6da"
            ],
            [
             0.4,
             "#fde0ef"
            ],
            [
             0.5,
             "#f7f7f7"
            ],
            [
             0.6,
             "#e6f5d0"
            ],
            [
             0.7,
             "#b8e186"
            ],
            [
             0.8,
             "#7fbc41"
            ],
            [
             0.9,
             "#4d9221"
            ],
            [
             1,
             "#276419"
            ]
           ],
           "sequential": [
            [
             0,
             "#0d0887"
            ],
            [
             0.1111111111111111,
             "#46039f"
            ],
            [
             0.2222222222222222,
             "#7201a8"
            ],
            [
             0.3333333333333333,
             "#9c179e"
            ],
            [
             0.4444444444444444,
             "#bd3786"
            ],
            [
             0.5555555555555556,
             "#d8576b"
            ],
            [
             0.6666666666666666,
             "#ed7953"
            ],
            [
             0.7777777777777778,
             "#fb9f3a"
            ],
            [
             0.8888888888888888,
             "#fdca26"
            ],
            [
             1,
             "#f0f921"
            ]
           ],
           "sequentialminus": [
            [
             0,
             "#0d0887"
            ],
            [
             0.1111111111111111,
             "#46039f"
            ],
            [
             0.2222222222222222,
             "#7201a8"
            ],
            [
             0.3333333333333333,
             "#9c179e"
            ],
            [
             0.4444444444444444,
             "#bd3786"
            ],
            [
             0.5555555555555556,
             "#d8576b"
            ],
            [
             0.6666666666666666,
             "#ed7953"
            ],
            [
             0.7777777777777778,
             "#fb9f3a"
            ],
            [
             0.8888888888888888,
             "#fdca26"
            ],
            [
             1,
             "#f0f921"
            ]
           ]
          },
          "colorway": [
           "#636efa",
           "#EF553B",
           "#00cc96",
           "#ab63fa",
           "#FFA15A",
           "#19d3f3",
           "#FF6692",
           "#B6E880",
           "#FF97FF",
           "#FECB52"
          ],
          "font": {
           "color": "#2a3f5f"
          },
          "geo": {
           "bgcolor": "white",
           "lakecolor": "white",
           "landcolor": "#E5ECF6",
           "showlakes": true,
           "showland": true,
           "subunitcolor": "white"
          },
          "hoverlabel": {
           "align": "left"
          },
          "hovermode": "closest",
          "mapbox": {
           "style": "light"
          },
          "paper_bgcolor": "white",
          "plot_bgcolor": "#E5ECF6",
          "polar": {
           "angularaxis": {
            "gridcolor": "white",
            "linecolor": "white",
            "ticks": ""
           },
           "bgcolor": "#E5ECF6",
           "radialaxis": {
            "gridcolor": "white",
            "linecolor": "white",
            "ticks": ""
           }
          },
          "scene": {
           "xaxis": {
            "backgroundcolor": "#E5ECF6",
            "gridcolor": "white",
            "gridwidth": 2,
            "linecolor": "white",
            "showbackground": true,
            "ticks": "",
            "zerolinecolor": "white"
           },
           "yaxis": {
            "backgroundcolor": "#E5ECF6",
            "gridcolor": "white",
            "gridwidth": 2,
            "linecolor": "white",
            "showbackground": true,
            "ticks": "",
            "zerolinecolor": "white"
           },
           "zaxis": {
            "backgroundcolor": "#E5ECF6",
            "gridcolor": "white",
            "gridwidth": 2,
            "linecolor": "white",
            "showbackground": true,
            "ticks": "",
            "zerolinecolor": "white"
           }
          },
          "shapedefaults": {
           "line": {
            "color": "#2a3f5f"
           }
          },
          "ternary": {
           "aaxis": {
            "gridcolor": "white",
            "linecolor": "white",
            "ticks": ""
           },
           "baxis": {
            "gridcolor": "white",
            "linecolor": "white",
            "ticks": ""
           },
           "bgcolor": "#E5ECF6",
           "caxis": {
            "gridcolor": "white",
            "linecolor": "white",
            "ticks": ""
           }
          },
          "title": {
           "x": 0.05
          },
          "xaxis": {
           "automargin": true,
           "gridcolor": "white",
           "linecolor": "white",
           "ticks": "",
           "title": {
            "standoff": 15
           },
           "zerolinecolor": "white",
           "zerolinewidth": 2
          },
          "yaxis": {
           "automargin": true,
           "gridcolor": "white",
           "linecolor": "white",
           "ticks": "",
           "title": {
            "standoff": 15
           },
           "zerolinecolor": "white",
           "zerolinewidth": 2
          }
         }
        },
        "title": {
         "text": "Top 10 Categorias por Faturamento"
        },
        "xaxis": {
         "anchor": "y",
         "domain": [
          0,
          1
         ],
         "title": {
          "text": "Categoria"
         }
        },
        "yaxis": {
         "anchor": "x",
         "domain": [
          0,
          1
         ],
         "title": {
          "text": "faturamento_total"
         }
        }
       }
      }
     },
     "metadata": {},
     "output_type": "display_data"
    }
   ],
   "source": [
    "query = '''\n",
    "SELECT\n",
    "  p.product_category_name,\n",
    "  SUM(o.price) AS faturamento_total\n",
    "FROM\n",
    "  order_item o\n",
    "JOIN\n",
    "  products p ON o.product_id = p.product_id\n",
    "GROUP BY\n",
    "  p.product_category_name\n",
    "ORDER BY\n",
    "  faturamento_total DESC\n",
    "LIMIT 10;\n",
    "'''\n",
    "\n",
    "df_faturamento = pd.read_sql(query, con=engine)\n",
    "\n",
    "fig = px.bar(df_faturamento, x='product_category_name', y='faturamento_total',\n",
    "             title='Top 10 Categorias por Faturamento',\n",
    "             labels={'product_category_name': 'Categoria', 'faturamento': 'Faturamento (R$)'},\n",
    "             text_auto=True)\n",
    "fig.show()\n"
   ]
  },
  {
   "cell_type": "markdown",
   "id": "7e501baa",
   "metadata": {},
   "source": [
    "2.3: Quais estados brasileiros possuem o maior valor médio de pedido?"
   ]
  },
  {
   "cell_type": "code",
   "execution_count": 38,
   "id": "45474f54",
   "metadata": {},
   "outputs": [
    {
     "data": {
      "application/vnd.plotly.v1+json": {
       "config": {
        "plotlyServerURL": "https://plot.ly"
       },
       "data": [
        {
         "hovertemplate": "Estado=%{x}<br>Valor Médio (R$)=%{y}<extra></extra>",
         "legendgroup": "",
         "marker": {
          "color": "#636efa",
          "pattern": {
           "shape": ""
          }
         },
         "name": "",
         "orientation": "v",
         "showlegend": false,
         "textposition": "auto",
         "type": "bar",
         "x": [
          "PB",
          "AC",
          "AP",
          "AL",
          "RO",
          "PA",
          "PI",
          "RR",
          "TO",
          "RN"
         ],
         "xaxis": "x",
         "y": {
          "bdata": "U9Sg6MupcEATg8DKIZZuQBTR+GyFHW5AnuHRy7qmbUBp9IgKsk1tQOozQm4LBGxAsAAIfc2ea0AQw/MwPI9rQFyPwvUoYGtAAtzsXk+PakA=",
          "dtype": "f8"
         },
         "yaxis": "y"
        }
       ],
       "layout": {
        "barmode": "relative",
        "legend": {
         "tracegroupgap": 0
        },
        "template": {
         "data": {
          "bar": [
           {
            "error_x": {
             "color": "#2a3f5f"
            },
            "error_y": {
             "color": "#2a3f5f"
            },
            "marker": {
             "line": {
              "color": "#E5ECF6",
              "width": 0.5
             },
             "pattern": {
              "fillmode": "overlay",
              "size": 10,
              "solidity": 0.2
             }
            },
            "type": "bar"
           }
          ],
          "barpolar": [
           {
            "marker": {
             "line": {
              "color": "#E5ECF6",
              "width": 0.5
             },
             "pattern": {
              "fillmode": "overlay",
              "size": 10,
              "solidity": 0.2
             }
            },
            "type": "barpolar"
           }
          ],
          "carpet": [
           {
            "aaxis": {
             "endlinecolor": "#2a3f5f",
             "gridcolor": "white",
             "linecolor": "white",
             "minorgridcolor": "white",
             "startlinecolor": "#2a3f5f"
            },
            "baxis": {
             "endlinecolor": "#2a3f5f",
             "gridcolor": "white",
             "linecolor": "white",
             "minorgridcolor": "white",
             "startlinecolor": "#2a3f5f"
            },
            "type": "carpet"
           }
          ],
          "choropleth": [
           {
            "colorbar": {
             "outlinewidth": 0,
             "ticks": ""
            },
            "type": "choropleth"
           }
          ],
          "contour": [
           {
            "colorbar": {
             "outlinewidth": 0,
             "ticks": ""
            },
            "colorscale": [
             [
              0,
              "#0d0887"
             ],
             [
              0.1111111111111111,
              "#46039f"
             ],
             [
              0.2222222222222222,
              "#7201a8"
             ],
             [
              0.3333333333333333,
              "#9c179e"
             ],
             [
              0.4444444444444444,
              "#bd3786"
             ],
             [
              0.5555555555555556,
              "#d8576b"
             ],
             [
              0.6666666666666666,
              "#ed7953"
             ],
             [
              0.7777777777777778,
              "#fb9f3a"
             ],
             [
              0.8888888888888888,
              "#fdca26"
             ],
             [
              1,
              "#f0f921"
             ]
            ],
            "type": "contour"
           }
          ],
          "contourcarpet": [
           {
            "colorbar": {
             "outlinewidth": 0,
             "ticks": ""
            },
            "type": "contourcarpet"
           }
          ],
          "heatmap": [
           {
            "colorbar": {
             "outlinewidth": 0,
             "ticks": ""
            },
            "colorscale": [
             [
              0,
              "#0d0887"
             ],
             [
              0.1111111111111111,
              "#46039f"
             ],
             [
              0.2222222222222222,
              "#7201a8"
             ],
             [
              0.3333333333333333,
              "#9c179e"
             ],
             [
              0.4444444444444444,
              "#bd3786"
             ],
             [
              0.5555555555555556,
              "#d8576b"
             ],
             [
              0.6666666666666666,
              "#ed7953"
             ],
             [
              0.7777777777777778,
              "#fb9f3a"
             ],
             [
              0.8888888888888888,
              "#fdca26"
             ],
             [
              1,
              "#f0f921"
             ]
            ],
            "type": "heatmap"
           }
          ],
          "histogram": [
           {
            "marker": {
             "pattern": {
              "fillmode": "overlay",
              "size": 10,
              "solidity": 0.2
             }
            },
            "type": "histogram"
           }
          ],
          "histogram2d": [
           {
            "colorbar": {
             "outlinewidth": 0,
             "ticks": ""
            },
            "colorscale": [
             [
              0,
              "#0d0887"
             ],
             [
              0.1111111111111111,
              "#46039f"
             ],
             [
              0.2222222222222222,
              "#7201a8"
             ],
             [
              0.3333333333333333,
              "#9c179e"
             ],
             [
              0.4444444444444444,
              "#bd3786"
             ],
             [
              0.5555555555555556,
              "#d8576b"
             ],
             [
              0.6666666666666666,
              "#ed7953"
             ],
             [
              0.7777777777777778,
              "#fb9f3a"
             ],
             [
              0.8888888888888888,
              "#fdca26"
             ],
             [
              1,
              "#f0f921"
             ]
            ],
            "type": "histogram2d"
           }
          ],
          "histogram2dcontour": [
           {
            "colorbar": {
             "outlinewidth": 0,
             "ticks": ""
            },
            "colorscale": [
             [
              0,
              "#0d0887"
             ],
             [
              0.1111111111111111,
              "#46039f"
             ],
             [
              0.2222222222222222,
              "#7201a8"
             ],
             [
              0.3333333333333333,
              "#9c179e"
             ],
             [
              0.4444444444444444,
              "#bd3786"
             ],
             [
              0.5555555555555556,
              "#d8576b"
             ],
             [
              0.6666666666666666,
              "#ed7953"
             ],
             [
              0.7777777777777778,
              "#fb9f3a"
             ],
             [
              0.8888888888888888,
              "#fdca26"
             ],
             [
              1,
              "#f0f921"
             ]
            ],
            "type": "histogram2dcontour"
           }
          ],
          "mesh3d": [
           {
            "colorbar": {
             "outlinewidth": 0,
             "ticks": ""
            },
            "type": "mesh3d"
           }
          ],
          "parcoords": [
           {
            "line": {
             "colorbar": {
              "outlinewidth": 0,
              "ticks": ""
             }
            },
            "type": "parcoords"
           }
          ],
          "pie": [
           {
            "automargin": true,
            "type": "pie"
           }
          ],
          "scatter": [
           {
            "fillpattern": {
             "fillmode": "overlay",
             "size": 10,
             "solidity": 0.2
            },
            "type": "scatter"
           }
          ],
          "scatter3d": [
           {
            "line": {
             "colorbar": {
              "outlinewidth": 0,
              "ticks": ""
             }
            },
            "marker": {
             "colorbar": {
              "outlinewidth": 0,
              "ticks": ""
             }
            },
            "type": "scatter3d"
           }
          ],
          "scattercarpet": [
           {
            "marker": {
             "colorbar": {
              "outlinewidth": 0,
              "ticks": ""
             }
            },
            "type": "scattercarpet"
           }
          ],
          "scattergeo": [
           {
            "marker": {
             "colorbar": {
              "outlinewidth": 0,
              "ticks": ""
             }
            },
            "type": "scattergeo"
           }
          ],
          "scattergl": [
           {
            "marker": {
             "colorbar": {
              "outlinewidth": 0,
              "ticks": ""
             }
            },
            "type": "scattergl"
           }
          ],
          "scattermap": [
           {
            "marker": {
             "colorbar": {
              "outlinewidth": 0,
              "ticks": ""
             }
            },
            "type": "scattermap"
           }
          ],
          "scattermapbox": [
           {
            "marker": {
             "colorbar": {
              "outlinewidth": 0,
              "ticks": ""
             }
            },
            "type": "scattermapbox"
           }
          ],
          "scatterpolar": [
           {
            "marker": {
             "colorbar": {
              "outlinewidth": 0,
              "ticks": ""
             }
            },
            "type": "scatterpolar"
           }
          ],
          "scatterpolargl": [
           {
            "marker": {
             "colorbar": {
              "outlinewidth": 0,
              "ticks": ""
             }
            },
            "type": "scatterpolargl"
           }
          ],
          "scatterternary": [
           {
            "marker": {
             "colorbar": {
              "outlinewidth": 0,
              "ticks": ""
             }
            },
            "type": "scatterternary"
           }
          ],
          "surface": [
           {
            "colorbar": {
             "outlinewidth": 0,
             "ticks": ""
            },
            "colorscale": [
             [
              0,
              "#0d0887"
             ],
             [
              0.1111111111111111,
              "#46039f"
             ],
             [
              0.2222222222222222,
              "#7201a8"
             ],
             [
              0.3333333333333333,
              "#9c179e"
             ],
             [
              0.4444444444444444,
              "#bd3786"
             ],
             [
              0.5555555555555556,
              "#d8576b"
             ],
             [
              0.6666666666666666,
              "#ed7953"
             ],
             [
              0.7777777777777778,
              "#fb9f3a"
             ],
             [
              0.8888888888888888,
              "#fdca26"
             ],
             [
              1,
              "#f0f921"
             ]
            ],
            "type": "surface"
           }
          ],
          "table": [
           {
            "cells": {
             "fill": {
              "color": "#EBF0F8"
             },
             "line": {
              "color": "white"
             }
            },
            "header": {
             "fill": {
              "color": "#C8D4E3"
             },
             "line": {
              "color": "white"
             }
            },
            "type": "table"
           }
          ]
         },
         "layout": {
          "annotationdefaults": {
           "arrowcolor": "#2a3f5f",
           "arrowhead": 0,
           "arrowwidth": 1
          },
          "autotypenumbers": "strict",
          "coloraxis": {
           "colorbar": {
            "outlinewidth": 0,
            "ticks": ""
           }
          },
          "colorscale": {
           "diverging": [
            [
             0,
             "#8e0152"
            ],
            [
             0.1,
             "#c51b7d"
            ],
            [
             0.2,
             "#de77ae"
            ],
            [
             0.3,
             "#f1b6da"
            ],
            [
             0.4,
             "#fde0ef"
            ],
            [
             0.5,
             "#f7f7f7"
            ],
            [
             0.6,
             "#e6f5d0"
            ],
            [
             0.7,
             "#b8e186"
            ],
            [
             0.8,
             "#7fbc41"
            ],
            [
             0.9,
             "#4d9221"
            ],
            [
             1,
             "#276419"
            ]
           ],
           "sequential": [
            [
             0,
             "#0d0887"
            ],
            [
             0.1111111111111111,
             "#46039f"
            ],
            [
             0.2222222222222222,
             "#7201a8"
            ],
            [
             0.3333333333333333,
             "#9c179e"
            ],
            [
             0.4444444444444444,
             "#bd3786"
            ],
            [
             0.5555555555555556,
             "#d8576b"
            ],
            [
             0.6666666666666666,
             "#ed7953"
            ],
            [
             0.7777777777777778,
             "#fb9f3a"
            ],
            [
             0.8888888888888888,
             "#fdca26"
            ],
            [
             1,
             "#f0f921"
            ]
           ],
           "sequentialminus": [
            [
             0,
             "#0d0887"
            ],
            [
             0.1111111111111111,
             "#46039f"
            ],
            [
             0.2222222222222222,
             "#7201a8"
            ],
            [
             0.3333333333333333,
             "#9c179e"
            ],
            [
             0.4444444444444444,
             "#bd3786"
            ],
            [
             0.5555555555555556,
             "#d8576b"
            ],
            [
             0.6666666666666666,
             "#ed7953"
            ],
            [
             0.7777777777777778,
             "#fb9f3a"
            ],
            [
             0.8888888888888888,
             "#fdca26"
            ],
            [
             1,
             "#f0f921"
            ]
           ]
          },
          "colorway": [
           "#636efa",
           "#EF553B",
           "#00cc96",
           "#ab63fa",
           "#FFA15A",
           "#19d3f3",
           "#FF6692",
           "#B6E880",
           "#FF97FF",
           "#FECB52"
          ],
          "font": {
           "color": "#2a3f5f"
          },
          "geo": {
           "bgcolor": "white",
           "lakecolor": "white",
           "landcolor": "#E5ECF6",
           "showlakes": true,
           "showland": true,
           "subunitcolor": "white"
          },
          "hoverlabel": {
           "align": "left"
          },
          "hovermode": "closest",
          "mapbox": {
           "style": "light"
          },
          "paper_bgcolor": "white",
          "plot_bgcolor": "#E5ECF6",
          "polar": {
           "angularaxis": {
            "gridcolor": "white",
            "linecolor": "white",
            "ticks": ""
           },
           "bgcolor": "#E5ECF6",
           "radialaxis": {
            "gridcolor": "white",
            "linecolor": "white",
            "ticks": ""
           }
          },
          "scene": {
           "xaxis": {
            "backgroundcolor": "#E5ECF6",
            "gridcolor": "white",
            "gridwidth": 2,
            "linecolor": "white",
            "showbackground": true,
            "ticks": "",
            "zerolinecolor": "white"
           },
           "yaxis": {
            "backgroundcolor": "#E5ECF6",
            "gridcolor": "white",
            "gridwidth": 2,
            "linecolor": "white",
            "showbackground": true,
            "ticks": "",
            "zerolinecolor": "white"
           },
           "zaxis": {
            "backgroundcolor": "#E5ECF6",
            "gridcolor": "white",
            "gridwidth": 2,
            "linecolor": "white",
            "showbackground": true,
            "ticks": "",
            "zerolinecolor": "white"
           }
          },
          "shapedefaults": {
           "line": {
            "color": "#2a3f5f"
           }
          },
          "ternary": {
           "aaxis": {
            "gridcolor": "white",
            "linecolor": "white",
            "ticks": ""
           },
           "baxis": {
            "gridcolor": "white",
            "linecolor": "white",
            "ticks": ""
           },
           "bgcolor": "#E5ECF6",
           "caxis": {
            "gridcolor": "white",
            "linecolor": "white",
            "ticks": ""
           }
          },
          "title": {
           "x": 0.05
          },
          "xaxis": {
           "automargin": true,
           "gridcolor": "white",
           "linecolor": "white",
           "ticks": "",
           "title": {
            "standoff": 15
           },
           "zerolinecolor": "white",
           "zerolinewidth": 2
          },
          "yaxis": {
           "automargin": true,
           "gridcolor": "white",
           "linecolor": "white",
           "ticks": "",
           "title": {
            "standoff": 15
           },
           "zerolinecolor": "white",
           "zerolinewidth": 2
          }
         }
        },
        "title": {
         "text": "Valor Médio de Pedido por Estado"
        },
        "xaxis": {
         "anchor": "y",
         "domain": [
          0,
          1
         ],
         "tickangle": -45,
         "title": {
          "text": "Estado"
         }
        },
        "yaxis": {
         "anchor": "x",
         "domain": [
          0,
          1
         ],
         "title": {
          "text": "Valor Médio (R$)"
         }
        }
       }
      }
     },
     "metadata": {},
     "output_type": "display_data"
    }
   ],
   "source": [
    "query = '''\n",
    "SELECT\n",
    "  c.customer_state,\n",
    "  AVG(oi.total_order_value) AS valor_medio_pedido\n",
    "FROM\n",
    "  orders o\n",
    "JOIN customers c ON o.customer_id = c.customer_id\n",
    "JOIN (\n",
    "  SELECT\n",
    "    order_id,\n",
    "    SUM(price + freight_value) AS total_order_value\n",
    "  FROM\n",
    "    order_item\n",
    "  GROUP BY\n",
    "    order_id\n",
    ") oi ON o.order_id = oi.order_id\n",
    "GROUP BY\n",
    "  c.customer_state\n",
    "ORDER BY\n",
    "  valor_medio_pedido DESC\n",
    "LIMIT 10;\n",
    "'''\n",
    "\n",
    "df_estado_valor_medio = pd.read_sql(query, con=engine)\n",
    "\n",
    "fig = px.bar(\n",
    "    df_estado_valor_medio,\n",
    "    x='customer_state',\n",
    "    y='valor_medio_pedido',\n",
    "    title='Valor Médio de Pedido por Estado',\n",
    "    labels={'customer_state': 'Estado', 'valor_medio_pedido': 'Valor Médio (R$)'}\n",
    ")\n",
    "fig.update_layout(xaxis_tickangle=-45)\n",
    "fig.show()"
   ]
  },
  {
   "cell_type": "markdown",
   "id": "77d84f83",
   "metadata": {},
   "source": [
    "# 3.0: Solução de Problemas de Negócio"
   ]
  }
 ],
 "metadata": {
  "kernelspec": {
   "display_name": "Python 3",
   "language": "python",
   "name": "python3"
  },
  "language_info": {
   "codemirror_mode": {
    "name": "ipython",
    "version": 3
   },
   "file_extension": ".py",
   "mimetype": "text/x-python",
   "name": "python",
   "nbconvert_exporter": "python",
   "pygments_lexer": "ipython3",
   "version": "3.12.3"
  }
 },
 "nbformat": 4,
 "nbformat_minor": 5
}
